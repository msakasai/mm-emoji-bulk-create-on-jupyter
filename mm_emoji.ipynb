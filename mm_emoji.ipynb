{
 "cells": [
  {
   "cell_type": "markdown",
   "id": "overhead-madness",
   "metadata": {},
   "source": [
    "# Mattermost カスタム絵文字一括登録"
   ]
  },
  {
   "cell_type": "markdown",
   "id": "billion-muscle",
   "metadata": {},
   "source": [
    "---"
   ]
  },
  {
   "cell_type": "code",
   "execution_count": 1,
   "id": "tribal-reconstruction",
   "metadata": {},
   "outputs": [],
   "source": [
    "import os\n",
    "import unicodedata\n",
    "import string\n",
    "import pykakasi\n",
    "import requests\n",
    "import json\n",
    "import io\n",
    "import math\n",
    "import shutil\n",
    "import numpy as np\n",
    "from time import sleep\n",
    "from matplotlib import pylab as plt\n",
    "from PIL import Image, ImageFilter\n",
    "\n",
    "%matplotlib inline"
   ]
  },
  {
   "cell_type": "markdown",
   "id": "noted-webmaster",
   "metadata": {},
   "source": [
    "## 環境変数を設定"
   ]
  },
  {
   "cell_type": "code",
   "execution_count": 2,
   "id": "fleet-petroleum",
   "metadata": {},
   "outputs": [],
   "source": [
    "# 絵文字格納ディレクトリパス\n",
    "EMOJI_DIR = './emoji'\n",
    "\n",
    "# Mattermost URL\n",
    "BASE_URL = 'Your mattermost url.'\n",
    "# Mattermost 投稿ユーザーID\n",
    "USER_ID = 'Emoji create user id.'\n",
    "# Mattermost アクセストークン\n",
    "ACCESS_TOKEN = 'Emoji create user access token.'\n",
    "# Mattermost 投稿チャンネルID\n",
    "POST_CHANNEL_ID = 'Emoji post channel.'\n"
   ]
  },
  {
   "cell_type": "markdown",
   "id": "olympic-melissa",
   "metadata": {},
   "source": [
    "---"
   ]
  },
  {
   "cell_type": "markdown",
   "id": "stock-marine",
   "metadata": {},
   "source": [
    "## ディレクトリ内の絵文字一覧リストの作成\n",
    "\n",
    "絵文字ファイル格納ディレクトリ内のファイルリストを作成します"
   ]
  },
  {
   "cell_type": "code",
   "execution_count": 3,
   "id": "different-christian",
   "metadata": {},
   "outputs": [],
   "source": [
    "def listdir(path):\n",
    "    \"\"\"ディレクトリ内のファイルの一覧取得\"\"\"\n",
    "    return os.listdir(path=path)"
   ]
  },
  {
   "cell_type": "code",
   "execution_count": 4,
   "id": "rural-ownership",
   "metadata": {},
   "outputs": [],
   "source": [
    "# ローマ字変換ライブラリ\n",
    "kks = pykakasi.kakasi()\n",
    "\n",
    "def convert_romaji(s: str) -> str:\n",
    "    \"\"\"文字列をローマ字に変換します\"\"\"\n",
    "    # 全角記号を半角記号に\n",
    "    _s = unicodedata.normalize('NFKC', s)\n",
    "    # 記号削除\n",
    "    _s = ''.join([t for t in _s if t not in (f'{string.punctuation}”’−¥〜ー「」、。・')])\n",
    "    # ローマ字に\n",
    "    ks = kks.convert(_s)\n",
    "    # 文字列に\n",
    "    _k = ''.join([k['passport'] for k in ks])\n",
    "    # スペースがあり場合「_」に置換して小文字化して返却\n",
    "    return _k.replace(' ', '_').lower()\n"
   ]
  },
  {
   "cell_type": "code",
   "execution_count": 5,
   "id": "brutal-sense",
   "metadata": {},
   "outputs": [],
   "source": [
    "def emoji_file_list(filename_list: list[dict[str, str]]) -> list[dict[str, str]]:\n",
    "    \"\"\"ファイル名リストのファイル名をローマ字変換してファイル名とローマ字名をキーに持った辞書のリストを返却します\"\"\"\n",
    "    return [{ 'filename': filename, 'romaji_name': f'{convert_romaji(\"\".join(filename.strip().split(\".\")[:-1]))}' } for filename in filename_list]\n"
   ]
  },
  {
   "cell_type": "markdown",
   "id": "acting-duplicate",
   "metadata": {},
   "source": [
    "---"
   ]
  },
  {
   "cell_type": "markdown",
   "id": "inner-malpractice",
   "metadata": {},
   "source": [
    "### ファイル名一覧取得"
   ]
  },
  {
   "cell_type": "code",
   "execution_count": 6,
   "id": "polish-religious",
   "metadata": {},
   "outputs": [
    {
     "data": {
      "text/plain": [
       "['1.png',\n",
       " '2.png',\n",
       " '3.png',\n",
       " '4.png',\n",
       " '5.png',\n",
       " '6.png',\n",
       " '7.png',\n",
       " 'い.png',\n",
       " 'と.png',\n",
       " 'に.png',\n",
       " 'は.png',\n",
       " 'へ.png',\n",
       " 'ほ.png',\n",
       " 'ろ.png']"
      ]
     },
     "execution_count": 6,
     "metadata": {},
     "output_type": "execute_result"
    }
   ],
   "source": [
    "emoji_filename_list = listdir(EMOJI_DIR)\n",
    "emoji_filename_list"
   ]
  },
  {
   "cell_type": "markdown",
   "id": "personal-cricket",
   "metadata": {},
   "source": [
    "### ローマ字ファイル名を持った辞書リスト作成\n",
    "絵文字ファイル名をローマ字に変換し、オリジナルのファイル名とローマ字変換した名称の辞書リストを作成します"
   ]
  },
  {
   "cell_type": "code",
   "execution_count": 7,
   "id": "cosmetic-career",
   "metadata": {},
   "outputs": [
    {
     "data": {
      "text/plain": [
       "[{'filename': '1.png', 'romaji_name': '1'},\n",
       " {'filename': '2.png', 'romaji_name': '2'},\n",
       " {'filename': '3.png', 'romaji_name': '3'},\n",
       " {'filename': '4.png', 'romaji_name': '4'},\n",
       " {'filename': '5.png', 'romaji_name': '5'},\n",
       " {'filename': '6.png', 'romaji_name': '6'},\n",
       " {'filename': '7.png', 'romaji_name': '7'},\n",
       " {'filename': 'い.png', 'romaji_name': 'i'},\n",
       " {'filename': 'と.png', 'romaji_name': 'to'},\n",
       " {'filename': 'に.png', 'romaji_name': 'ni'},\n",
       " {'filename': 'は.png', 'romaji_name': 'ha'},\n",
       " {'filename': 'へ.png', 'romaji_name': 'he'},\n",
       " {'filename': 'ほ.png', 'romaji_name': 'ho'},\n",
       " {'filename': 'ろ.png', 'romaji_name': 'ro'}]"
      ]
     },
     "execution_count": 7,
     "metadata": {},
     "output_type": "execute_result"
    }
   ],
   "source": [
    "emoji_list = emoji_file_list(emoji_filename_list)\n",
    "emoji_list"
   ]
  },
  {
   "cell_type": "markdown",
   "id": "valuable-smell",
   "metadata": {},
   "source": [
    "---"
   ]
  },
  {
   "cell_type": "markdown",
   "id": "korean-group",
   "metadata": {},
   "source": [
    "## Mattermostに絵文字登録\n",
    "絵文字をMattermostに登録します"
   ]
  },
  {
   "cell_type": "code",
   "execution_count": 8,
   "id": "wooden-arrangement",
   "metadata": {},
   "outputs": [],
   "source": [
    "# Mattermost API URL\n",
    "emoji_api_url = f'{BASE_URL}/api/v4/emoji'\n",
    "post_api_url = f'{BASE_URL}/api/v4/posts'\n",
    "\n",
    "# request header\n",
    "request_headers = {\n",
    "    'Authorization': f'Bearer {ACCESS_TOKEN}'\n",
    "}"
   ]
  },
  {
   "cell_type": "code",
   "execution_count": 9,
   "id": "occupational-shape",
   "metadata": {},
   "outputs": [],
   "source": [
    "def mm_emoji_list() -> list[dict[str, str]]:\n",
    "    \"\"\" Mattermostカスタム絵文字一覧取得\"\"\"\n",
    "    mm_emoji_list = []\n",
    "\n",
    "    page = 0\n",
    "    per_page = 60\n",
    "    while True:\n",
    "        params = {\n",
    "            'page': page,\n",
    "            'per_page': per_page\n",
    "        }\n",
    "        res = requests.get(emoji_api_url, headers=request_headers, params=params)\n",
    "        if res.status_code == 200:\n",
    "            mm_emoji_list += res.json()\n",
    "            print(len(mm_emoji_list), end='..')\n",
    "            if len(mm_emoji_list) == 0 or len(mm_emoji_list) % per_page != 0:\n",
    "                print('\\n')\n",
    "                break\n",
    "            page += 1\n",
    "\n",
    "    return mm_emoji_list\n"
   ]
  },
  {
   "cell_type": "code",
   "execution_count": 10,
   "id": "moral-niagara",
   "metadata": {},
   "outputs": [],
   "source": [
    "def mm_create_emoji(emoji_file: dict[str, str]) -> None:\n",
    "    \"\"\"Mattermostカスタム絵文字作成\"\"\"\n",
    "    emoji_data = {\n",
    "        'name': emoji_file['romaji_name'],\n",
    "        'creator_id': USER_ID\n",
    "    }\n",
    "    data={ 'emoji': json.dumps(emoji_data) }\n",
    "\n",
    "    with open(f'{EMOJI_DIR}/{emoji_file[\"filename\"]}', mode='rb') as f:\n",
    "        files = { 'image': f.read() }\n",
    "        res = requests.post(emoji_api_url, headers=request_headers, files=files, data=data)\n",
    "        if res.status_code != 200:\n",
    "            print(f'message: {res.json()[\"message\"]}, file_name: {emoji_file[\"filename\"]}, emoji_data: {emoji_data}')\n"
   ]
  },
  {
   "cell_type": "code",
   "execution_count": 11,
   "id": "informational-headset",
   "metadata": {},
   "outputs": [],
   "source": [
    "def mm_upload_emoji(emoji_file_list: list[dict[str, str]]) -> None:\n",
    "    \"\"\"絵文字アップロード\"\"\"\n",
    "    for i, emoji_file in enumerate(emoji_file_list):\n",
    "        mm_create_emoji(emoji_file)\n",
    "        if 0 < i and i % 10 == 0:\n",
    "            # 10アクセスごとに1秒sleep\n",
    "            sleep(1)\n"
   ]
  },
  {
   "cell_type": "markdown",
   "id": "configured-motorcycle",
   "metadata": {},
   "source": [
    "---"
   ]
  },
  {
   "cell_type": "markdown",
   "id": "shaped-homework",
   "metadata": {},
   "source": [
    "### Mattetmostに登録された絵文字一覧を取得"
   ]
  },
  {
   "cell_type": "code",
   "execution_count": 12,
   "id": "furnished-plane",
   "metadata": {},
   "outputs": [
    {
     "name": "stdout",
     "output_type": "stream",
     "text": [
      "0..\n",
      "\n"
     ]
    },
    {
     "data": {
      "text/plain": [
       "0"
      ]
     },
     "execution_count": 12,
     "metadata": {},
     "output_type": "execute_result"
    }
   ],
   "source": [
    "before_mm_emoji_list = mm_emoji_list()\n",
    "len(before_mm_emoji_list)"
   ]
  },
  {
   "cell_type": "code",
   "execution_count": 13,
   "id": "martial-prophet",
   "metadata": {},
   "outputs": [
    {
     "data": {
      "text/plain": [
       "[]"
      ]
     },
     "execution_count": 13,
     "metadata": {},
     "output_type": "execute_result"
    }
   ],
   "source": [
    "[(mm_em['id'], mm_em['name']) for mm_em in before_mm_emoji_list]"
   ]
  },
  {
   "cell_type": "markdown",
   "id": "necessary-ensemble",
   "metadata": {},
   "source": [
    "### Mattermostに絵文字をアップロード"
   ]
  },
  {
   "cell_type": "code",
   "execution_count": 14,
   "id": "large-marijuana",
   "metadata": {},
   "outputs": [],
   "source": [
    "mm_upload_emoji(emoji_list)"
   ]
  },
  {
   "cell_type": "markdown",
   "id": "progressive-infrastructure",
   "metadata": {},
   "source": [
    "### Mattermostに登録された絵文字一覧を取得"
   ]
  },
  {
   "cell_type": "code",
   "execution_count": 15,
   "id": "living-anime",
   "metadata": {},
   "outputs": [
    {
     "name": "stdout",
     "output_type": "stream",
     "text": [
      "14..\n",
      "\n"
     ]
    },
    {
     "data": {
      "text/plain": [
       "14"
      ]
     },
     "execution_count": 15,
     "metadata": {},
     "output_type": "execute_result"
    }
   ],
   "source": [
    "after_mm_emoji_list = mm_emoji_list()\n",
    "len(after_mm_emoji_list)"
   ]
  },
  {
   "cell_type": "code",
   "execution_count": 16,
   "id": "executed-habitat",
   "metadata": {},
   "outputs": [
    {
     "data": {
      "text/plain": [
       "[('61a14ub88fgdip143eke9465jh', '5'),\n",
       " ('6ix3dtwij3fduy7uw6ttwmkfrr', '7'),\n",
       " ('7d7birp8yi89te9cd8kby5djhw', 'he'),\n",
       " ('8nwbkkh9ftbmfd4koobwp63gre', 'ha'),\n",
       " ('9j1tyzi9xtnef89nbyr7d5rcra', '3'),\n",
       " ('ec9hbkjjubb3ze66e5qcsib3go', '4'),\n",
       " ('gx5toz5zwbdt8fm6afz8e45iuo', 'ni'),\n",
       " ('pk4effezitbc9rpzkfpmz5grta', '1'),\n",
       " ('rp8f54w7ri8bmrzd3b7b47h4ay', 'ro'),\n",
       " ('ue578d8wapne5p9x8rcagxrf1c', '2'),\n",
       " ('ufsngnti5ff5ifhs5kh43mgrqo', '6'),\n",
       " ('wwnrrtn5xf8digjegpnyuaij5e', 'ho'),\n",
       " ('z9rqk7y1a3rh8nwkb6bjtrjzjh', 'to'),\n",
       " ('zdnhx4az93fmz8rpio5zm8tyqh', 'i')]"
      ]
     },
     "execution_count": 16,
     "metadata": {},
     "output_type": "execute_result"
    }
   ],
   "source": [
    "[(mm_em['id'], mm_em['name']) for mm_em in after_mm_emoji_list]"
   ]
  },
  {
   "cell_type": "markdown",
   "id": "executed-lesbian",
   "metadata": {},
   "source": [
    "---"
   ]
  },
  {
   "cell_type": "markdown",
   "id": "indoor-deployment",
   "metadata": {},
   "source": [
    "# Mattermost カスタム絵文字一覧を投稿"
   ]
  },
  {
   "cell_type": "code",
   "execution_count": 17,
   "id": "flexible-confidence",
   "metadata": {},
   "outputs": [],
   "source": [
    "def mm_emoji_post(emoji_list: list[dict[str, str]]) -> None:\n",
    "    \"\"\"引数で渡されたチャンネルにMattermostのカスタム絵文字一覧を投稿します\"\"\"\n",
    "    post_text = ' '.join([f':{em[\"romaji_name\"]}:' for em in emoji_list])        \n",
    "    params = {\n",
    "        'channel_id': POST_CHANNEL_ID,\n",
    "        'message': post_text\n",
    "    }\n",
    "    print(params)\n",
    "    res = requests.post(post_api_url, headers=request_headers, json=params)\n",
    "    if 400 <= res.status_code:\n",
    "        print(res.json())\n"
   ]
  },
  {
   "cell_type": "code",
   "execution_count": 18,
   "id": "incorrect-brief",
   "metadata": {},
   "outputs": [
    {
     "name": "stdout",
     "output_type": "stream",
     "text": [
      "{'channel_id': 'su8qf7dj9tb5je7dke931m1oya', 'message': ':1: :2: :3: :4: :5: :6: :7: :i: :to: :ni: :ha: :he: :ho: :ro:'}\n"
     ]
    }
   ],
   "source": [
    "mm_emoji_post(emoji_list)"
   ]
  },
  {
   "cell_type": "code",
   "execution_count": null,
   "id": "behind-study",
   "metadata": {},
   "outputs": [],
   "source": []
  },
  {
   "cell_type": "markdown",
   "id": "attractive-prototype",
   "metadata": {},
   "source": [
    "---"
   ]
  },
  {
   "cell_type": "markdown",
   "id": "extra-model",
   "metadata": {},
   "source": [
    "## 登録した絵文字の確認\n",
    "おまけ\n",
    "絵文字件数や画像種別によってエラーになる場合があります"
   ]
  },
  {
   "cell_type": "code",
   "execution_count": 19,
   "id": "resistant-essay",
   "metadata": {},
   "outputs": [
    {
     "data": {
      "text/plain": [
       "['61a14ub88fgdip143eke9465jh',\n",
       " '6ix3dtwij3fduy7uw6ttwmkfrr',\n",
       " '7d7birp8yi89te9cd8kby5djhw',\n",
       " '8nwbkkh9ftbmfd4koobwp63gre',\n",
       " '9j1tyzi9xtnef89nbyr7d5rcra',\n",
       " 'ec9hbkjjubb3ze66e5qcsib3go',\n",
       " 'gx5toz5zwbdt8fm6afz8e45iuo',\n",
       " 'pk4effezitbc9rpzkfpmz5grta',\n",
       " 'rp8f54w7ri8bmrzd3b7b47h4ay',\n",
       " 'ue578d8wapne5p9x8rcagxrf1c',\n",
       " 'ufsngnti5ff5ifhs5kh43mgrqo',\n",
       " 'wwnrrtn5xf8digjegpnyuaij5e',\n",
       " 'z9rqk7y1a3rh8nwkb6bjtrjzjh',\n",
       " 'zdnhx4az93fmz8rpio5zm8tyqh']"
      ]
     },
     "execution_count": 19,
     "metadata": {},
     "output_type": "execute_result"
    }
   ],
   "source": [
    "emoji_ids = [em['id'] for em in after_mm_emoji_list]\n",
    "emoji_ids"
   ]
  },
  {
   "cell_type": "code",
   "execution_count": 20,
   "id": "superior-parts",
   "metadata": {},
   "outputs": [],
   "source": [
    "def mm_emoji_image(emoji_id: str):\n",
    "    \"\"\"絵文字画像の取得\"\"\"\n",
    "    return requests.get(f'{emoji_api_url}/{emoji_id}/image', headers=request_headers)\n"
   ]
  },
  {
   "cell_type": "code",
   "execution_count": 21,
   "id": "monetary-ferry",
   "metadata": {},
   "outputs": [
    {
     "data": {
      "image/png": "[encoded data removed]",
      "text/plain": [
       "<Figure size 360x216 with 15 Axes>"
      ]
     },
     "metadata": {
      "needs_background": "light"
     },
     "output_type": "display_data"
    },
    {
     "name": "stdout",
     "output_type": "stream",
     "text": [
      "CPU times: user 493 ms, sys: 21.3 ms, total: 515 ms\n",
      "Wall time: 351 ms\n"
     ]
    }
   ],
   "source": [
    "%%time\n",
    "\n",
    "xlen = math.ceil(len(emoji_ids) / 5)\n",
    "ylen = 5\n",
    "\n",
    "fig, ax = plt.subplots(xlen, ylen, figsize=(5, math.ceil(len(emoji_ids) / 5)))\n",
    "# print(ax.shape)\n",
    "\n",
    "i = 0\n",
    "j = 0\n",
    "for emoji_id in emoji_ids:\n",
    "    res = mm_emoji_image(emoji_id)\n",
    "    img = np.array(Image.open(io.BytesIO(res.content)))\n",
    "\n",
    "    ax[i, j].imshow(img)\n",
    "    ax[i, j].xaxis.set_visible(False)\n",
    "    ax[i, j].yaxis.set_visible(False)\n",
    "    j += 1\n",
    "    if j == ylen:\n",
    "        j = 0\n",
    "        i += 1\n",
    "    if 0 < j and j % 10 == 0:\n",
    "        # 10アクセスごとに1秒sleep\n",
    "        sleep(1)\n",
    "        \n",
    "plt.tight_layout()\n",
    "plt.show()\n",
    "plt.close()\n"
   ]
  },
  {
   "cell_type": "code",
   "execution_count": null,
   "id": "pacific-payday",
   "metadata": {},
   "outputs": [],
   "source": []
  }
 ],
 "metadata": {
  "kernelspec": {
   "display_name": "Python 3",
   "language": "python",
   "name": "python3"
  },
  "language_info": {
   "codemirror_mode": {
    "name": "ipython",
    "version": 3
   },
   "file_extension": ".py",
   "mimetype": "text/x-python",
   "name": "python",
   "nbconvert_exporter": "python",
   "pygments_lexer": "ipython3",
   "version": "3.9.2"
  }
 },
 "nbformat": 4,
 "nbformat_minor": 5
}
